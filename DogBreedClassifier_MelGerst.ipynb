{
  "nbformat": 4,
  "nbformat_minor": 0,
  "metadata": {
    "colab": {
      "provenance": [],
      "authorship_tag": "ABX9TyORQkEkRPtZAHgGr+JUu7Im",
      "include_colab_link": true
    },
    "kernelspec": {
      "name": "python3",
      "display_name": "Python 3"
    },
    "language_info": {
      "name": "python"
    }
  },
  "cells": [
    {
      "cell_type": "markdown",
      "metadata": {
        "id": "view-in-github",
        "colab_type": "text"
      },
      "source": [
        "<a href=\"https://colab.research.google.com/github/mgerst1/ITCS-5154-MelGerst/blob/main/DogBreedClassifier_MelGerst.ipynb\" target=\"_parent\"><img src=\"https://colab.research.google.com/assets/colab-badge.svg\" alt=\"Open In Colab\"/></a>"
      ]
    },
    {
      "cell_type": "markdown",
      "source": [
        "FIRST_NAME = \"Mel\"\n",
        "\n",
        "LAST_NAME = \"Gerst\"\n",
        "\n",
        "STUDENT_ID = \"800995291\"\n",
        "\n",
        "Final Class Project - ITCS 5154\n",
        "\n",
        "Dog Breed Classifier - Student Mel Gerst\n",
        "\n",
        "Duplicating project originally by TechVidvan"
      ],
      "metadata": {
        "id": "Huxc8S_p75Et"
      }
    },
    {
      "cell_type": "code",
      "execution_count": null,
      "metadata": {
        "id": "7qhuatDL7Nvx"
      },
      "outputs": [],
      "source": [
        "# Dog Breed Classifier\n",
        "# ITCS 5154 - Student Mel Gerst\n",
        "# Duplicating project by TechVidvan\n",
        "# Import necessary packages for dog breed classifier\n",
        "import cv2\n",
        "import numpy as np\n",
        "import pandas as pd\n",
        "import tensorflow\n",
        "import pathlib\n",
        "import os\n",
        "\n",
        "from tensorflow.keras.preprocessing.image import ImageDataGenerator\n",
        "from sklearn.model_selection import train_test_split\n",
        "from sklearn.preprocessing import LabelEncoder\n",
        "from tensorflow.keras.models import load_model,Model\n",
        "from tensorflow.keras.optimizers import RMSprop\n",
        "from tensorflow.keras.layers import Dense,GlobalAveragePooling2D,Dropout,BatchNormalization\n",
        "from tensorflow.keras.applications.resnet_v2 import ResNet50V2,preprocess_input\n",
        "\n",
        "print(\"Imports Complete\")\n",
        "print(pathlib.Path().resolve())\n",
        "\n",
        "from google.colab import drive\n",
        "drive.mount('/content/drive')\n",
        "# Assuming your file is in \"My Drive/data.csv\"\n",
        "# file_path = '/content/drive/My Drive/data.csv'\n"
      ]
    },
    {
      "cell_type": "code",
      "source": [
        "#specify number\n",
        "num_breeds = 60\n",
        "im_size = 224\n",
        "batch_size = 64\n",
        "encoder = LabelEncoder()\n",
        "\n",
        "#read the csv file\n",
        "df_labels = pd.read_csv(\"/content/drive/My Drive/ColabNotebooks/DogBreedClassifierProject/AI-model/labels.csv\")\n",
        "#store training and testing images folder location\n",
        "train_file = '/content/drive/My Drive/ColabNotebooks/DogBreedClassifierProject/AI-data/train/'\n",
        "test_file =  '/content/drive/My Drive/ColabNotebooks/DogBreedClassifierProject/AI-data/test/'\n",
        "\n",
        "#check the total number of unique breed in our dataset file\n",
        "print(\"Total number of unique Dog Breeds in data:\",len(df_labels.breed.unique()))\n",
        "print(os.listdir(test_file))"
      ],
      "metadata": {
        "id": "L8OYxLnz7Yjd"
      },
      "execution_count": null,
      "outputs": []
    },
    {
      "cell_type": "code",
      "source": [],
      "metadata": {
        "id": "g_yTRU304mT2"
      },
      "execution_count": null,
      "outputs": []
    },
    {
      "cell_type": "code",
      "source": [
        "#get only 60 unique breeds record\n",
        "breed_dict = list(df_labels['breed'].value_counts().keys())\n",
        "new_list = sorted(breed_dict,reverse=True)[:num_breeds*2+1:2]\n",
        "#change the dataset to have only those 60 unique breed records\n",
        "df_labels = df_labels.query('breed in @new_list')\n",
        "#create new column which will contain image name with the image extension\n",
        "df_labels['img_file'] = df_labels['id'].apply(lambda x: x + \".jpg\")\n",
        "print(\"Total number of unique Dog Breeds used in model training:\",len(df_labels.breed.unique()))\n",
        "print(\"The breeds used for training and testing are:\", sorted(df_labels.breed.unique()))\n",
        "\n",
        "#create a numpy array of the shape\n",
        "#(number of dataset records, image size , image size, 3 for rgb channel layer)\n",
        "#this will be input for model\n",
        "train_x = np.zeros((len(df_labels), im_size, im_size, 3), dtype='float32')"
      ],
      "metadata": {
        "id": "MUp1NPmVKaM8"
      },
      "execution_count": null,
      "outputs": []
    },
    {
      "cell_type": "code",
      "source": [
        "#iterate over img_file column of our dataset\n",
        "for i, img_id in enumerate(df_labels['img_file']):\n",
        "  #read the image file and convert into numeric format\n",
        "  #resize all images to one dimension i.e. 224x224\n",
        "  #we will get array with the shape of\n",
        "  #(224,224,3) where 3 is the RGB channels layers\n",
        "  img = cv2.resize(cv2.imread(train_file+img_id,cv2.IMREAD_COLOR),((im_size,im_size)))\n",
        "  #scale array into the range of -1 to 1.\n",
        "  #preprocess the array and expand its dimension on the axis 0\n",
        "  img_array = preprocess_input(np.expand_dims(np.array(img[...,::-1].astype(np.float32)).copy(), axis=0))\n",
        "  #update the train_x variable with new element\n",
        "  train_x[i] = img_array"
      ],
      "metadata": {
        "id": "4FHX-N-9LiKO"
      },
      "execution_count": null,
      "outputs": []
    },
    {
      "cell_type": "code",
      "source": [
        "#this will be target for model.\n",
        "#convert breed names into numerical format\n",
        "train_y = encoder.fit_transform(df_labels[\"breed\"].values)\n",
        "\n",
        "#split the dataset in the ratio of 80:20.\n",
        "#80% for training and 20% for testing purpose\n",
        "x_train, x_test, y_train, y_test = train_test_split(train_x,train_y,test_size=0.2,random_state=42)\n",
        "\n",
        "#Image augmentation using ImageDataGenerator class\n",
        "train_datagen = ImageDataGenerator(rotation_range=45,\n",
        "                                   width_shift_range=0.2,\n",
        "                                   height_shift_range=0.2,\n",
        "                                   shear_range=0.2,\n",
        "                                   zoom_range=0.25,\n",
        "                                   horizontal_flip=True,\n",
        "                                   fill_mode='nearest')\n",
        "\n",
        "#generate images for training sets\n",
        "train_generator = train_datagen.flow(x_train,\n",
        "                                     y_train,\n",
        "                                     batch_size=batch_size)\n",
        "\n",
        "#same process for Testing sets also by declaring the instance\n",
        "test_datagen = ImageDataGenerator()\n",
        "\n",
        "test_generator = test_datagen.flow(x_test,\n",
        "                                     y_test,\n",
        "                                     batch_size=batch_size)"
      ],
      "metadata": {
        "id": "F-gO-W6VT0Qc"
      },
      "execution_count": null,
      "outputs": []
    },
    {
      "cell_type": "code",
      "source": [
        "#building the model using ResNet50V2 with input shape of our image array\n",
        "#weights for our network will be from of imagenet dataset\n",
        "#we will not include the first Dense layer\n",
        "resnet = ResNet50V2(input_shape = [im_size,im_size,3], weights='imagenet', include_top=False)\n",
        "#freeze all trainable layers and train only top layers\n",
        "for layer in resnet.layers:\n",
        "    layer.trainable = False\n",
        "\n",
        "#add global average pooling layer and Batch Normalization layer\n",
        "x = resnet.output\n",
        "x = BatchNormalization()(x)\n",
        "x = GlobalAveragePooling2D()(x)\n",
        "x = Dropout(0.5)(x)\n",
        "#add fully connected layer\n",
        "x = Dense(1024, activation='relu')(x)\n",
        "x = Dropout(0.5)(x)\n",
        "\n",
        "#add output layer having the shape equal to number of breeds\n",
        "predictions = Dense(num_breeds, activation='softmax')(x)\n",
        "\n",
        "#create model class with inputs and outputs\n",
        "model = Model(inputs=resnet.input, outputs=predictions)"
      ],
      "metadata": {
        "id": "2qHl-1sTT4YF"
      },
      "execution_count": null,
      "outputs": []
    },
    {
      "cell_type": "code",
      "source": [
        "#model.summary()\n",
        "\n",
        "#epochs for model training and learning rate for optimizer\n",
        "epochs = 10\n",
        "learning_rate = 1e-3\n",
        "\n",
        "#using RMSprop optimizer compile or build the model\n",
        "optimizer = RMSprop(learning_rate=learning_rate,rho=0.9)\n",
        "model.compile(optimizer=optimizer,\n",
        "              loss='sparse_categorical_crossentropy',\n",
        "              metrics=[\"accuracy\"])\n",
        "\n",
        "#fit the training generator data and train the model\n",
        "model.fit(train_generator,\n",
        "                 steps_per_epoch= x_train.shape[0] // batch_size,\n",
        "                 epochs= epochs,\n",
        "                 validation_data= test_generator,\n",
        "                 validation_steps= x_test.shape[0] // batch_size)\n",
        "\n",
        "#Save the model for prediction\n",
        "model.save(\"model.keras\")\n",
        "\n",
        "#load the model\n",
        "model = load_model(\"model.keras\")"
      ],
      "metadata": {
        "id": "s8RpmXF6UIP0"
      },
      "execution_count": null,
      "outputs": []
    },
    {
      "cell_type": "code",
      "source": [
        "#get the image of the dog #1 for prediction\n",
        "pred_img_path = '/content/drive/My Drive/ColabNotebooks/DogBreedClassifierProject/AI-model/rottweiler.jpg'\n",
        "#read the image file and convert into numeric format\n",
        "#resize all images to one dimension i.e. 224x224\n",
        "pred_img_array = cv2.resize(cv2.imread(pred_img_path,cv2.IMREAD_COLOR),((im_size,im_size)))\n",
        "#scale array into the range of -1 to 1.\n",
        "#expand the dimesion on the axis 0 and normalize the array values\n",
        "pred_img_array = preprocess_input(np.expand_dims(np.array(pred_img_array[...,::-1].astype(np.float32)).copy(), axis=0))\n",
        "\n",
        "#feed the model with the image array for prediction\n",
        "pred_val = model.predict(np.array(pred_img_array,dtype=\"float32\"))\n",
        "#display the image of dog\n",
        "from google.colab.patches import cv2_imshow\n",
        "cv2_imshow(cv2.resize(cv2.imread(pred_img_path,cv2.IMREAD_COLOR),((im_size,im_size))))\n",
        "# cv2.imshow(\"TechVidvan\",cv2.resize(cv2.imread(pred_img_path,cv2.IMREAD_COLOR),((im_size,im_size))))\n",
        "#display the predicted breed of dog\n",
        "pred_breed = sorted(new_list)[np.argmax(pred_val)]\n",
        "print(\"Predicted Breed for this Dog is :\",pred_breed)\n",
        "\n",
        "#get the image of the dog #2 for prediction\n",
        "pred_img_path2 = '/content/drive/My Drive/ColabNotebooks/DogBreedClassifierProject/AI-model/toby.jpg'\n",
        "#read the image file and convert into numeric format\n",
        "#resize all images to one dimension i.e. 224x224\n",
        "pred_img_array2 = cv2.resize(cv2.imread(pred_img_path2,cv2.IMREAD_COLOR),((im_size,im_size)))\n",
        "#scale array into the range of -1 to 1.\n",
        "#expand the dimesion on the axis 0 and normalize the array values\n",
        "pred_img_array2 = preprocess_input(np.expand_dims(np.array(pred_img_array2[...,::-1].astype(np.float32)).copy(), axis=0))\n",
        "\n",
        "#feed the model with the image array for prediction\n",
        "pred_val2 = model.predict(np.array(pred_img_array2,dtype=\"float32\"))\n",
        "#display the image of dog\n",
        "from google.colab.patches import cv2_imshow\n",
        "cv2_imshow(cv2.resize(cv2.imread(pred_img_path2,cv2.IMREAD_COLOR),((im_size,im_size))))\n",
        "# cv2.imshow(\"TechVidvan\",cv2.resize(cv2.imread(pred_img_path,cv2.IMREAD_COLOR),((im_size,im_size))))\n",
        "#display the predicted breed of dog\n",
        "pred_breed2 = sorted(new_list)[np.argmax(pred_val2)]\n",
        "print(\"Predicted Breed for this Dog is :\",pred_breed2)\n",
        "\n",
        "#get the image of the dog #3 for prediction\n",
        "pred_img_path3 = '/content/drive/My Drive/ColabNotebooks/DogBreedClassifierProject/AI-model/bella.jpg'\n",
        "#read the image file and convert into numeric format\n",
        "#resize all images to one dimension i.e. 224x224\n",
        "pred_img_array3 = cv2.resize(cv2.imread(pred_img_path3,cv2.IMREAD_COLOR),((im_size,im_size)))\n",
        "#scale array into the range of -1 to 1.\n",
        "#expand the dimesion on the axis 0 and normalize the array values\n",
        "pred_img_array3 = preprocess_input(np.expand_dims(np.array(pred_img_array3[...,::-1].astype(np.float32)).copy(), axis=0))\n",
        "\n",
        "#feed the model with the image array for prediction\n",
        "pred_val3 = model.predict(np.array(pred_img_array3,dtype=\"float32\"))\n",
        "#display the image of dog\n",
        "from google.colab.patches import cv2_imshow\n",
        "cv2_imshow(cv2.resize(cv2.imread(pred_img_path3,cv2.IMREAD_COLOR),((im_size,im_size))))\n",
        "# cv2.imshow(\"TechVidvan\",cv2.resize(cv2.imread(pred_img_path,cv2.IMREAD_COLOR),((im_size,im_size))))\n",
        "#display the predicted breed of dog\n",
        "pred_breed3 = sorted(new_list)[np.argmax(pred_val3)]\n",
        "print(\"Predicted Breed for this Dog is :\",pred_breed3)\n",
        "\n",
        "#get the image of the dog #4 for prediction\n",
        "pred_img_path4 = '/content/drive/My Drive/ColabNotebooks/DogBreedClassifierProject/AI-model/irishwolfhound.jpg'\n",
        "#read the image file and convert into numeric format\n",
        "#resize all images to one dimension i.e. 224x224\n",
        "pred_img_array4 = cv2.resize(cv2.imread(pred_img_path4,cv2.IMREAD_COLOR),((im_size,im_size)))\n",
        "#scale array into the range of -1 to 1.\n",
        "#expand the dimesion on the axis 0 and normalize the array values\n",
        "pred_img_array4 = preprocess_input(np.expand_dims(np.array(pred_img_array4[...,::-1].astype(np.float32)).copy(), axis=0))\n",
        "\n",
        "#feed the model with the image array for prediction\n",
        "pred_val4 = model.predict(np.array(pred_img_array4,dtype=\"float32\"))\n",
        "#display the image of dog\n",
        "from google.colab.patches import cv2_imshow\n",
        "cv2_imshow(cv2.resize(cv2.imread(pred_img_path4,cv2.IMREAD_COLOR),((im_size,im_size))))\n",
        "# cv2.imshow(\"TechVidvan\",cv2.resize(cv2.imread(pred_img_path,cv2.IMREAD_COLOR),((im_size,im_size))))\n",
        "#display the predicted breed of dog\n",
        "pred_breed4 = sorted(new_list)[np.argmax(pred_val4)]\n",
        "print(\"Predicted Breed for this Dog is :\",pred_breed4)\n",
        "\n",
        "#get the image of the dog #5 for prediction\n",
        "pred_img_path5 = '/content/drive/My Drive/ColabNotebooks/DogBreedClassifierProject/AI-model/whippet.jpg'\n",
        "#read the image file and convert into numeric format\n",
        "#resize all images to one dimension i.e. 224x224\n",
        "pred_img_array5 = cv2.resize(cv2.imread(pred_img_path5,cv2.IMREAD_COLOR),((im_size,im_size)))\n",
        "#scale array into the range of -1 to 1.\n",
        "#expand the dimesion on the axis 0 and normalize the array values\n",
        "pred_img_array5 = preprocess_input(np.expand_dims(np.array(pred_img_array5[...,::-1].astype(np.float32)).copy(), axis=0))\n",
        "\n",
        "#feed the model with the image array for prediction\n",
        "pred_val5 = model.predict(np.array(pred_img_array5,dtype=\"float32\"))\n",
        "#display the image of dog\n",
        "from google.colab.patches import cv2_imshow\n",
        "cv2_imshow(cv2.resize(cv2.imread(pred_img_path5,cv2.IMREAD_COLOR),((im_size,im_size))))\n",
        "#display the predicted breed of dog\n",
        "pred_breed5 = sorted(new_list)[np.argmax(pred_val5)]\n",
        "print(\"Predicted Breed for this Dog is :\",pred_breed5)"
      ],
      "metadata": {
        "id": "z21CrxOlYDt9"
      },
      "execution_count": null,
      "outputs": []
    }
  ]
}